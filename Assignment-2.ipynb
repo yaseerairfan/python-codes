{
 "cells": [
  {
   "cell_type": "code",
   "execution_count": 1,
   "metadata": {},
   "outputs": [
    {
     "name": "stdout",
     "output_type": "stream",
     "text": [
      "enter your subj1 marks out of 100:45\n",
      "enter your subj2 marks out of 100:65\n",
      "enter your subj3 marks out of 100:90\n",
      "enter your subj4 marks out of 100:89\n",
      "enter your subj5 marks out of 100:78\n",
      "You obtained 367.0 out of 500\n",
      "you got B\n"
     ]
    }
   ],
   "source": [
    "##Write a program which takes 5 inputs from user for different subject’s\n",
    "##marks, total it and generate mark sheet using grades ?\n",
    "subj1=float(input('enter your subj1 marks out of 100:'))\n",
    "subj2=float(input('enter your subj2 marks out of 100:'))\n",
    "subj3=float(input('enter your subj3 marks out of 100:'))\n",
    "subj4=float(input('enter your subj4 marks out of 100:'))\n",
    "subj5=float(input('enter your subj5 marks out of 100:'))\n",
    "totalmarks=subj1+subj2+subj3+subj4+subj5\n",
    "print('You obtained',str(totalmarks),'out of 500')\n",
    "if totalmarks==500:\n",
    "    print('You got A+')\n",
    "elif 450<=totalmarks<500:\n",
    "    print('you got A')\n",
    "elif 300<=totalmarks<450:\n",
    "    print('you got B')\n",
    "elif 200<=totalmarks<300:\n",
    "    print('You got C')\n",
    "else:\n",
    "    print('You got D')"
   ]
  },
  {
   "cell_type": "code",
   "execution_count": 3,
   "metadata": {},
   "outputs": [
    {
     "name": "stdout",
     "output_type": "stream",
     "text": [
      "enter any number56\n",
      "your given no is even\n"
     ]
    }
   ],
   "source": [
    "'''2.'''##Write a program which take input from user and identify that the given\n",
    "##number is even or odd?\n",
    "num=int(input('enter any number'))\n",
    "if num%2==0:\n",
    "    print('your given no is even')\n",
    "else:\n",
    "    print('the no is odd')\n"
   ]
  },
  {
   "cell_type": "code",
   "execution_count": 4,
   "metadata": {},
   "outputs": [
    {
     "name": "stdout",
     "output_type": "stream",
     "text": [
      "5\n"
     ]
    }
   ],
   "source": [
    "'''3'''##Write a program which print the length of the list?    \n",
    "l=[1,2,3,4,5]\n",
    "count=0\n",
    "for i in l:\n",
    "    count+=1\n",
    "print(count)"
   ]
  },
  {
   "cell_type": "code",
   "execution_count": 5,
   "metadata": {},
   "outputs": [
    {
     "name": "stdout",
     "output_type": "stream",
     "text": [
      "15\n"
     ]
    }
   ],
   "source": [
    "'''4'''##Write a Python program to sum all the numeric items in a list?\n",
    "l1=[1,2,3,4,5]\n",
    "sum=0\n",
    "for i in l1:\n",
    "    sum+=i\n",
    "print(sum)"
   ]
  },
  {
   "cell_type": "code",
   "execution_count": 6,
   "metadata": {},
   "outputs": [
    {
     "name": "stdout",
     "output_type": "stream",
     "text": [
      "6\n"
     ]
    }
   ],
   "source": [
    "'''4'''##Write a Python program to get the largest number from a numeric list.\n",
    "l2=[1,3,4,5,6]\n",
    "largest=l2[0]\n",
    "for i in range(len(l2)):\n",
    "    if l2[i]>largest:\n",
    "        largest=l2[i]\n",
    "print(largest)\n"
   ]
  },
  {
   "cell_type": "code",
   "execution_count": 7,
   "metadata": {},
   "outputs": [
    {
     "name": "stdout",
     "output_type": "stream",
     "text": [
      "1\n",
      "1\n",
      "2\n",
      "3\n"
     ]
    }
   ],
   "source": [
    "'''5'''##Take a list, say for example this one:\n",
    "##a = [1, 1, 2, 3, 5, 8, 13, 21, 34, 55, 89]\n",
    "##and write a program that prints out all the elements of the list that are\n",
    "##less than 5.\n",
    "a=[1, 1, 2, 3, 5, 8, 13, 21, 34, 55, 89]\n",
    "for i in a:\n",
    "    if i<5:\n",
    "        print(i)"
   ]
  },
  {
   "cell_type": "code",
   "execution_count": null,
   "metadata": {},
   "outputs": [],
   "source": []
  }
 ],
 "metadata": {
  "kernelspec": {
   "display_name": "Python 3",
   "language": "python",
   "name": "python3"
  },
  "language_info": {
   "codemirror_mode": {
    "name": "ipython",
    "version": 3
   },
   "file_extension": ".py",
   "mimetype": "text/x-python",
   "name": "python",
   "nbconvert_exporter": "python",
   "pygments_lexer": "ipython3",
   "version": "3.7.4"
  }
 },
 "nbformat": 4,
 "nbformat_minor": 2
}
