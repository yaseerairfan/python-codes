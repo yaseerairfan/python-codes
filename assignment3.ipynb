{
 "cells": [
  {
   "cell_type": "code",
   "execution_count": 1,
   "metadata": {},
   "outputs": [],
   "source": [
    "'''1'''##Make a calculator using Python with addition , subtraction , multiplication ,\n",
    "##division and power.\n",
    "def ADD(*args):\n",
    "    sum=0\n",
    "    for i in args:\n",
    "        sum+=i\n",
    "    print(sum)    \n",
    "def SUB(*args):\n",
    "    sub=0\n",
    "    for i in args:\n",
    "        sub-=i\n",
    "    print(sum)\n",
    "def MUL(*args):\n",
    "    mul=0\n",
    "    for i in args:\n",
    "        mul*=i\n",
    "    print(mul)\n",
    "def DIV(*args):\n",
    "    div=0\n",
    "    for i in args:\n",
    "        div/=i\n",
    "    print(div)"
   ]
  },
  {
   "cell_type": "code",
   "execution_count": 2,
   "metadata": {},
   "outputs": [
    {
     "name": "stdout",
     "output_type": "stream",
     "text": [
      "1 is num\n",
      "3 is num\n",
      "4\n"
     ]
    }
   ],
   "source": [
    "## Write a program to check if there is any numeric value in list using for loop    \n",
    "l=['a','1','c','3']\n",
    "n=0\n",
    "for  i in l:\n",
    "    \n",
    "    if i.isdigit():\n",
    "        i=int(i)\n",
    "        n+=i\n",
    "        print(i,'is num')\n",
    "print(n)  "
   ]
  },
  {
   "cell_type": "code",
   "execution_count": 3,
   "metadata": {},
   "outputs": [
    {
     "name": "stdout",
     "output_type": "stream",
     "text": [
      "enter a key3\n",
      "enter a value3\n"
     ]
    }
   ],
   "source": [
    "##'''3'''. Write a Python script to add a key to a dictionary        \n",
    "d={1:'1',2:'2'}\n",
    "key=input('enter a key')\n",
    "value=input('enter a value')\n",
    "d[key]=value"
   ]
  },
  {
   "cell_type": "code",
   "execution_count": 4,
   "metadata": {},
   "outputs": [
    {
     "name": "stdout",
     "output_type": "stream",
     "text": [
      "6\n"
     ]
    }
   ],
   "source": [
    "##'''4.''' Write a Python program to sum all the numeric items in a dictionary\n",
    "dic={1:'A',2:'b','c':3}\n",
    "x=list(dic.keys())\n",
    "y=list(dic.values())\n",
    "l=x+y\n",
    "sum=0\n",
    "for i in l:\n",
    "    if type(i)==int:\n",
    "        sum+=i\n",
    "print(sum)"
   ]
  },
  {
   "cell_type": "code",
   "execution_count": 5,
   "metadata": {},
   "outputs": [
    {
     "name": "stdout",
     "output_type": "stream",
     "text": [
      "[1, 2, 3, 4, 5]\n"
     ]
    }
   ],
   "source": [
    "##5. Write a program to identify duplicate values from list\n",
    "l=[1,2,3,2,4,4,5]\n",
    "for y in range(len(l)):\n",
    "    for z in range(y+1,len(l)-1):\n",
    "\n",
    "        if l[y]==l[z]:\n",
    "            l.pop(z)\n",
    "print(l)"
   ]
  },
  {
   "cell_type": "code",
   "execution_count": 6,
   "metadata": {},
   "outputs": [
    {
     "name": "stdout",
     "output_type": "stream",
     "text": [
      "[1, 2, 3]\n",
      "1\n"
     ]
    }
   ],
   "source": [
    "##6. Write a Python script to check if a given key already exists in a dictionary\n",
    "dic={1:'A',2:'b',3:'c',2:'d'}\n",
    "key1=list(dic.keys())\n",
    "print(key1)\n",
    "for y in range(len(key1)):\n",
    "    for z in range(y+1,len(key1)-1):\n",
    "        print('1')\n",
    "        if key1[y]==key1[z]:\n",
    "            print('duplicate exist of key',key1[y])\n"
   ]
  },
  {
   "cell_type": "code",
   "execution_count": null,
   "metadata": {},
   "outputs": [],
   "source": []
  }
 ],
 "metadata": {
  "kernelspec": {
   "display_name": "Python 3",
   "language": "python",
   "name": "python3"
  },
  "language_info": {
   "codemirror_mode": {
    "name": "ipython",
    "version": 3
   },
   "file_extension": ".py",
   "mimetype": "text/x-python",
   "name": "python",
   "nbconvert_exporter": "python",
   "pygments_lexer": "ipython3",
   "version": "3.7.4"
  }
 },
 "nbformat": 4,
 "nbformat_minor": 2
}
