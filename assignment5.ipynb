{
 "cells": [
  {
   "cell_type": "code",
   "execution_count": 4,
   "metadata": {},
   "outputs": [
    {
     "name": "stdout",
     "output_type": "stream",
     "text": [
      "120\n"
     ]
    }
   ],
   "source": [
    "'''Question:1\n",
    "Write a Python function to calculate the factorial of a number (a non-negative\n",
    "integer). The function accepts the number as an argument.'''\n",
    "def factorial(n):\n",
    "    fact=1\n",
    "    if n<0:\n",
    "        print(\"only positive integers are allowed\")\n",
    "        \n",
    "    else:\n",
    "        for y in range(1,n+1,1):\n",
    "            fact=fact*y\n",
    "    print(fact)\n",
    "factorial(5)    "
   ]
  },
  {
   "cell_type": "code",
   "execution_count": 9,
   "metadata": {},
   "outputs": [
    {
     "name": "stdout",
     "output_type": "stream",
     "text": [
      "enter the stringyaseera\n",
      "The total uppercase letters are: 7\n",
      "The total lowercase letters are: 0\n"
     ]
    }
   ],
   "source": [
    "'''Question:2\n",
    "Write a Python function that accepts a string and calculate the number of upper\n",
    "case letters and lower case letters.'''\n",
    "def calc():\n",
    "    u=0\n",
    "    l=0\n",
    "    string=input(\"enter the string\")\n",
    "    for y in string:\n",
    "        if y.isupper():\n",
    "            u+=1\n",
    "        else:\n",
    "            l+=1\n",
    "    print(\"The total uppercase letters are:\", l) \n",
    "    print(\"The total lowercase letters are:\", u)\n",
    "calc()   "
   ]
  },
  {
   "cell_type": "code",
   "execution_count": 11,
   "metadata": {},
   "outputs": [
    {
     "name": "stdout",
     "output_type": "stream",
     "text": [
      "0\n",
      "2\n",
      "4\n"
     ]
    }
   ],
   "source": [
    "\"\"\"Question:3\n",
    "Write a Python function to print the even numbers from a given list.\"\"\"\n",
    "l=[0,1,2,3,4,5]\n",
    "def even():\n",
    "    for i in l:\n",
    "        if i%2==0:\n",
    "            print(i)\n",
    "even()            "
   ]
  },
  {
   "cell_type": "code",
   "execution_count": 15,
   "metadata": {},
   "outputs": [
    {
     "name": "stdout",
     "output_type": "stream",
     "text": [
      "enter the stringmaham\n",
      "your given string is palindrome\n"
     ]
    }
   ],
   "source": [
    "'''Question:4\n",
    "Write a Python function that checks whether a passed string is palindrome or not.\n",
    "Note: A palindrome is a word, phrase, or sequence that reads the same\n",
    "backward as forward, e.g., madam'''\n",
    "def palindrome():\n",
    "    string=input('enter the string')\n",
    "    if string[::1]==string[::-1]:\n",
    "        print('your given string is palindrome')\n",
    "palindrome()    "
   ]
  },
  {
   "cell_type": "code",
   "execution_count": 17,
   "metadata": {},
   "outputs": [
    {
     "name": "stdout",
     "output_type": "stream",
     "text": [
      "Enter a number: 5\n",
      "5 is a prime number\n"
     ]
    }
   ],
   "source": [
    "'''Question:5\n",
    "Write a Python function that takes a number as a parameter and check the\n",
    "number is prime or not.'''\n",
    "def prime():\n",
    "    num = int(input(\"Enter a number: \"))  \n",
    "\n",
    "    if num > 1:  \n",
    "       for i in range(2,num):  \n",
    "           if (num % i) == 0:  \n",
    "               print(num,\"is not a prime number\")  \n",
    "               print(i,\"times\",num//i,\"is\",num)  \n",
    "               break  \n",
    "       else:  \n",
    "           print(num,\"is a prime number\")  \n",
    "\n",
    "    else:  \n",
    "       print(num,\"is not a prime number\")  \n",
    "prime()    "
   ]
  },
  {
   "cell_type": "code",
   "execution_count": 22,
   "metadata": {},
   "outputs": [
    {
     "name": "stdout",
     "output_type": "stream",
     "text": [
      "your purchased items are:\n",
      "('3', '4', 1)\n"
     ]
    }
   ],
   "source": [
    "'''Question: 6\n",
    "Suppose a customer is shopping in a market and you need to print all the items\n",
    "which user bought from market.\n",
    "Write a function which accepts the multiple arguments of user shopping list and\n",
    "print all the items which user bought from market.'''\n",
    "def arbitrary(*args):\n",
    "    print(\"your purchased items are:\")\n",
    "    print(args)\n",
    "arbitrary('3' ,'4' ,1)    "
   ]
  }
 ],
 "metadata": {
  "kernelspec": {
   "display_name": "Python 3",
   "language": "python",
   "name": "python3"
  },
  "language_info": {
   "codemirror_mode": {
    "name": "ipython",
    "version": 3
   },
   "file_extension": ".py",
   "mimetype": "text/x-python",
   "name": "python",
   "nbconvert_exporter": "python",
   "pygments_lexer": "ipython3",
   "version": "3.7.4"
  }
 },
 "nbformat": 4,
 "nbformat_minor": 2
}
